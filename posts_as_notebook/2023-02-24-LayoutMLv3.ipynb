{
 "cells": [
  {
   "cell_type": "markdown",
   "metadata": {},
   "source": [
    "### Introduction - Use Cases"
   ]
  },
  {
   "cell_type": "markdown",
   "metadata": {},
   "source": [
    "Document AI is one of the hottest areas in AI for businesses. Indeed, it goes without saying that automating low-value tasks is mandatory to reduce costs and improve operational performance. However, AI and such a model are not so easy to create, especially when it comes to a lot of different tasks."
   ]
  },
  {
   "cell_type": "markdown",
   "metadata": {},
   "source": [
    "One of these topics is document AI. It aims to automatically find information in various documents, regardless of their type and form."
   ]
  },
  {
   "cell_type": "markdown",
   "metadata": {},
   "source": [
    "> For example, someone might look at an invoice to find the name and date of the invoice. Invoices can be very different from one vendor to another, and it takes time to look through them. So AI can help the worker by finding the information and extracting it."
   ]
  },
  {
   "cell_type": "markdown",
   "metadata": {},
   "source": [
    "Also, Microsoft has develop Self-supervised pre-training techniques to solve this use case. The model we are going to describe and implement in the following document is **LayoutLMv3**."
   ]
  },
  {
   "cell_type": "markdown",
   "metadata": {},
   "source": [
    "### LayoutLMv3 : Theorical description"
   ]
  },
  {
   "cell_type": "markdown",
   "metadata": {},
   "source": [
    "#### Conceptual approach"
   ]
  },
  {
   "cell_type": "markdown",
   "metadata": {},
   "source": [
    "This model uses mainly three objectives in order to train the model : \n",
    "1. Masked Language Modeling (MLM) ;\n",
    "2. Masked Image Modeling (MIM) ;\n",
    "3. Word-Patch Alignement (WPA)."
   ]
  },
  {
   "cell_type": "markdown",
   "metadata": {},
   "source": [
    "Thus, its main strength is that this model can learn on both text-centric documents (such as invoices) and more image-centric documents (such as contracts). "
   ]
  },
  {
   "cell_type": "markdown",
   "metadata": {},
   "source": [
    "> The use of this strategy is very promising because it uses the two strengths of both types of models:\n",
    "> 1. it uses the position of each extracted box to learn how to find the information ;\n",
    "> 2. it also uses the content of each box to learn how to find relevant information.\n"
   ]
  },
  {
   "cell_type": "markdown",
   "metadata": {},
   "source": [
    "##### Masked Language Modeling "
   ]
  },
  {
   "cell_type": "markdown",
   "metadata": {},
   "source": [
    "This type of model has a fairly simple structure. Given an element to the model (such as a simple sentence), and masking some of the words, the algorithm tries to predict the masked elements using the context of the given element (other tokens' emneddings and positions' embeddings)."
   ]
  },
  {
   "cell_type": "markdown",
   "metadata": {},
   "source": [
    "One of the most popular models using masked language modeling is BERT<sup>[1](https://arxiv.org/pdf/1810.04805.pdf)</sup> (Bidirectional Encoder Representations from Transformers)."
   ]
  },
  {
   "cell_type": "markdown",
   "metadata": {},
   "source": [
    "The following example may give an idea of how this transformer works."
   ]
  },
  {
   "cell_type": "markdown",
   "metadata": {},
   "source": [
    "<p align=\"center\">\n",
    "    <img src=\"../_ressources/images/MLM_BERT.png\">\n",
    "</p>\n",
    "    "
   ]
  },
  {
   "cell_type": "markdown",
   "metadata": {},
   "source": [
    "*An example of MLM. Taken from : [Self-Supervised Contextual Data Augmentation for Natural Language Processing](https://www.researchgate.net/publication/337187647_Self-Supervised_Contextual_Data_Augmentation_for_Natural_Language_Processing)*"
   ]
  },
  {
   "cell_type": "markdown",
   "metadata": {},
   "source": [
    "How to Train a Masked Language Model (such as BERT)\n",
    "\n",
    "1. **Tokenization:** The input is divided into tokens, and some of them are masked to train the model. The model predicts what the masked tokens were ;\n",
    "\n",
    "2. **Embeddings:** Two embeddings are created - one for the position of the token in the input and another for the content of the algorithm ;\n",
    "\n",
    "3. **Transformer Network:** Using these two embeddings, a transformer with a complex neural network predicts the masked values ;\n",
    "\n",
    "4. **Evaluation Metrics:** Several metrics can evaluate the performance of the model, such as accuracy, BLUE (Bilingual Evaluation Understudy), or ROUGE (Recall-Oriented Understudy for Gisting Evaluation). However, unlike accuracy, BLUE and ROUGE evaluate the feasibility of the generated text.\n"
   ]
  },
  {
   "cell_type": "markdown",
   "metadata": {},
   "source": [
    "##### Masked Image Modeling"
   ]
  },
  {
   "cell_type": "markdown",
   "metadata": {},
   "source": [
    "Masked Image Modeling is another field of masked signal learning. The idea is quite similar to the MLM. This time, as you may expect, masked elements are images and not sentences, and the model try to rebuild the image, especially the masked area."
   ]
  },
  {
   "cell_type": "markdown",
   "metadata": {},
   "source": [
    "Nevertheless, this kind of algorithms is quite more complicated than MLM. Indeed, when it comes to images, several additionnal difficulties appears, such as : \n",
    "* A important correlation between two pixels (the probability of finding a pixel whose color is close to that of its neighbor is very high) ; \n",
    "* It is more difficult to transform pixels into tokens, because the signals are even more raw;\n",
    "* it is possible to find continuous data instead of discrete data: this means that tokenization can lead to the creation of even more categories to classify information."
   ]
  },
  {
   "cell_type": "markdown",
   "metadata": {},
   "source": [
    "One of the pioneering work models using Masked Image Modeling is BEIT<sup>[2](https://arxiv.org/pdf/2106.08254.pdf)</sup>   (Bidirectional Encoder Representations from Transformers)."
   ]
  },
  {
   "cell_type": "markdown",
   "metadata": {},
   "source": [
    "<p align=\"center\">\n",
    "    <img src=\"../_ressources/images/MIM_BEIT.png\">\n",
    "</p>"
   ]
  },
  {
   "cell_type": "markdown",
   "metadata": {},
   "source": [
    "*An example of MIM using BEiT. Taken from : [BEIT: BERT Pre-Training of Image Transformers](https://arxiv.org/pdf/2106.08254.pdf)*"
   ]
  },
  {
   "cell_type": "markdown",
   "metadata": {},
   "source": [
    "How to Train a Masked Image Model (such as BEiT)\n",
    "\n",
    "1. **Train an Image Tokenizer:** This involves encoding the image into numerical tokens and decoding these tokens back to the image. This step is separate from the other steps.\n",
    "\n",
    "2. **Divide the Image into Pieces:** After tokenizing the image, divide it into pieces. Some of these pieces are then masked, and the model is trained to fill in the missing parts.\n",
    "\n",
    "3. **Flatten the Image:** Once the masked pieces are selected, flatten the image to provide a simple \"list\" to the encoder, rather than a raw 2D-image. The order of the pieces during flattening is crucial because it's part of the input for the encoder.\n",
    "\n",
    "4. **Use an Encoder:** The encoder is given the positions and contents of every piece and generates a prediction for the masked pieces based on this information.\n",
    "\n",
    "5. **Fill the Masked Area:** The predicted values fill the masked area in the flattened image. After reshaping the image, the decoder rebuilds the complete image.\n",
    "\n",
    "6. **Compare Images:** The process concludes with a comparison between the original and predicted image.\n"
   ]
  },
  {
   "cell_type": "markdown",
   "metadata": {},
   "source": [
    "##### Word-Patch Alignment"
   ]
  },
  {
   "cell_type": "markdown",
   "metadata": {},
   "source": [
    "The objective of Word-Patch Alignment is to predict wheter the corresponding image patch of a text is masked. It's a bridge between the image-related part and text-related part.\n",
    "\n",
    "Word vectors and image patch features are aligned using a cross-modal attention mechanism, where each word attends to the most relevant image patches and vice-versa."
   ]
  },
  {
   "cell_type": "markdown",
   "metadata": {},
   "source": [
    "##### Aggregation of 3 techniques in LayoutLMv3"
   ]
  },
  {
   "cell_type": "markdown",
   "metadata": {},
   "source": [
    "LayoutMLv3 is a mix of these three techniques. The link between them is described in the image below."
   ]
  },
  {
   "cell_type": "markdown",
   "metadata": {},
   "source": [
    "<p align=\"center\">\n",
    "    <img src=\"../_ressources/images/LayoutLMv3.png\">\n",
    "</p>"
   ]
  },
  {
   "cell_type": "markdown",
   "metadata": {},
   "source": [
    "*Summary of LayoutLMv3. Taken from : [LayoutLMv3: Pre-training for Document AIwith Unified Text and Image Masking](https://arxiv.org/pdf/2204.08387.pdf)*"
   ]
  },
  {
   "cell_type": "markdown",
   "metadata": {},
   "source": [
    "### Strenghts of LayoutLMv3"
   ]
  },
  {
   "cell_type": "markdown",
   "metadata": {},
   "source": [
    "**A Cross-Modal Approach**\n",
    "\n",
    "Using only text-based documents, it's possible to extract information through word tokens. In long paragraphs, context can be inferred from previous and following sentences, and correlations between words in a sentence are important. However, this approach can be inefficient for structured documents with only a few words in each paragraph. In such cases, there is little context, and the model may struggle to accurately predict masked tokens.\n",
    "\n",
    "Using only images, it's possible to predict information as an image, such as the location of masked areas. However, it's more difficult to predict the content within those areas, since every pixel has an important correlation with other pixels, and predicting text in such a document can be even more challenging.\n",
    "\n",
    "Using a Word-Patch Alignment approach that combines words and image patches, the model can leverage the strengths of both modalities. By aligning words with image patches, the model can better understand the semantic meaning of the image and generate more accurate and meaningful captions. This cross-modal approach has been successfully used in various applications, including image captioning, visual question answering, and image retrieval.\n"
   ]
  },
  {
   "cell_type": "markdown",
   "metadata": {},
   "source": [
    "**Training an Image-Based Model Without CNN :**\n",
    "\n",
    "This model is based on images, but it does not use CNN, which is typically used in most image-based machine learning methods. Although it is a simple method, training requires GPUs and powerful machines due to the large number of weights.\n",
    "\n",
    "However, LayoutLMv3 can simplify this process, reduce computational complexity, and eliminate some region annotations, thereby saving parameters.\n"
   ]
  },
  {
   "cell_type": "markdown",
   "metadata": {},
   "source": [
    "### An example of LayoutLMv3 : "
   ]
  },
  {
   "cell_type": "markdown",
   "metadata": {},
   "source": [
    "#### Description of the use case"
   ]
  },
  {
   "cell_type": "markdown",
   "metadata": {},
   "source": [
    "In this example, the objective is to **extract several information in an invoice**. Common fields to extract are for instance : \n",
    "* Name of the biller ;\n",
    "* Address of the biller ;\n",
    "* Due date ;\n",
    "* GST ;\n",
    "* Date of the invoice ;\n",
    "* Number of the invoice..."
   ]
  },
  {
   "cell_type": "markdown",
   "metadata": {},
   "source": [
    "#### Example Dataset "
   ]
  },
  {
   "cell_type": "markdown",
   "metadata": {},
   "source": [
    "##### Description"
   ]
  },
  {
   "cell_type": "markdown",
   "metadata": {},
   "source": [
    "To illustrate the use of LayoutLMv3, a simple dataset might be a solution. Indeed, if the dataset is normalized and targeted information are in the same place in each document, performances will be high and it will demonstrate that the model is working well."
   ]
  },
  {
   "cell_type": "markdown",
   "metadata": {},
   "source": [
    "The dataset used in this example is a Hugging Face dataset named Darentang/generated (*https://huggingface.co/datasets/darentang/generated*). This dataset is already labeled, and every invoice has the same shape."
   ]
  },
  {
   "cell_type": "markdown",
   "metadata": {},
   "source": [
    "##### Content"
   ]
  },
  {
   "cell_type": "markdown",
   "metadata": {},
   "source": [
    "Every invoice in this dataset has some information :\n",
    "1. the id of the invoice in the dataset ;\n",
    "2. the different tokens extracted from the invoice, which may be use for MLM part ;\n",
    "3. the different bounding boxes, given by the OCR (optical character recognition), where every token is located ;\n",
    "4. a NER tag for every invoice ;\n",
    "5. a path to print the invoice in png."
   ]
  },
  {
   "cell_type": "markdown",
   "metadata": {},
   "source": [
    "#### Preparation for the training"
   ]
  },
  {
   "cell_type": "markdown",
   "metadata": {},
   "source": [
    "The first step is to prepare data before training. Indeed, Hugging Face Datasets cannot be used instantly, and some pre-processing are required in order to fine tune the model on a given Dataset."
   ]
  },
  {
   "cell_type": "markdown",
   "metadata": {},
   "source": [
    "The dataset is divided into two datsets : one for the training of the model and one in order to validate performances of the fine tuning. As an example, 80% will be used for training and 20% for testing the model."
   ]
  },
  {
   "cell_type": "markdown",
   "metadata": {},
   "source": [
    "#### Fine Tuning of the model"
   ]
  },
  {
   "cell_type": "markdown",
   "metadata": {},
   "source": [
    "We have to define appropriate metrics to fine-tune the model on this dataset. However, we face a challenge where the majority of the bounding boxes are labeled as \"OTHER,\" indicating the absence of relevant information.\n",
    "\n",
    "As a result, using accuracy as the primary metric for fine-tuning is not suitable. If we do so, the model may assign the label \"OTHER\" to every box, resulting in the failure to extract any useful information."
   ]
  },
  {
   "cell_type": "markdown",
   "metadata": {},
   "source": [
    "Furthermore, due to the similarities among every invoice, it is feasible to fine-tune the model with a relatively small number of epochs. The model is likely to converge quickly, and therefore there is no need to train it for hours."
   ]
  },
  {
   "cell_type": "markdown",
   "metadata": {},
   "source": [
    "| Step | Training Loss | Validation Loss | Precision | Recall | F1 |\n",
    "|------|---------------|-----------------|-----------|--------|----|\n",
    "|50|No log|0.013665|0.972000|0.985801|0.978852|0.997051|\n",
    "|100|0.016600|0.010173|0.972000|0.985801|0.978852|0.997051|\n",
    "|150|0.016600|0.008906|0.972000|0.985801|0.978852|0.997051|\n",
    "|200|0.010300|0.005441|0.987854|0.989858|0.988855|0.998736|\n",
    "|250|0.010300|0.003199|0.995951|0.997972|0.996960|0.999579|\n",
    "|300|0.004600|0.003948|0.995951|0.997972|0.996960|0.999579|\n",
    "|350|0.004600|0.004153|0.995951|0.997972|0.996960|0.999579|\n",
    "|400|0.003300|0.001833|0.997972|0.997972|0.997972|0.999789|\n",
    "|450|0.003300|0.002308|0.997972|0.997972|0.997972|0.999789|\n",
    "|500|0.002700|0.002393|0.997972|0.997972|0.997972|0.999789|"
   ]
  },
  {
   "cell_type": "markdown",
   "metadata": {},
   "source": [
    "**Table 1 :** *Performances of fine tuning on Darentang's Dataset.*"
   ]
  },
  {
   "cell_type": "markdown",
   "metadata": {},
   "source": [
    "The F1 is really close of 100%. As a conclusion, the fine tuning of the model lead to a model which extract relevant information with a high level of confidence. indeed, most of the information are correctly extracted and it is possible to use this tool like this."
   ]
  },
  {
   "cell_type": "markdown",
   "metadata": {},
   "source": [
    "##### Limit of this example "
   ]
  },
  {
   "cell_type": "markdown",
   "metadata": {},
   "source": [
    "The example discussed above has certain limitations that need to be considered:\n",
    "\n",
    "* The dataset used for the example is almost perfect, with all invoices having a similar structure. However, in reality, invoices can differ significantly in shape and content. As a result, the model's performance is likely to suffer when dealing with such varied datasets ;\n",
    "* The quality of information extracted by the model is highly dependent on the quality of OCR. Even if the model performs well in terms of labeling (as shown in the table), incorrect information can be extracted if the OCR is not accurate enough. For instance, if the date of the invoice is 14/01/2023 and the OCR extracted 44/01/2023, labeling might be great, but information false. To address this issue, the model should be combined with a set of rules to verify and normalize the extracted information ;\n",
    "* Fine-tuning this kind of model requires labeled data, which can be a time-consuming and challenging task. Without labeled data, it is impossible to train the model effectively."
   ]
  },
  {
   "cell_type": "markdown",
   "metadata": {},
   "source": [
    "## Sources"
   ]
  },
  {
   "cell_type": "markdown",
   "metadata": {},
   "source": [
    "**LayoutLMv3**\n",
    "* https://huggingface.co/docs/transformers/model_doc/layoutlmv3\n",
    "* https://arxiv.org/pdf/2204.08387.pdf\n",
    "\n",
    "**Masked Language Modeling**\n",
    "* https://towardsdatascience.com/the-most-common-evaluation-metrics-in-nlp-ced6a763ac8b\n",
    "\n",
    "\n",
    "**Masked Image Modeling**\n",
    "* Zhiliang Peng, Li Dong, Hangbo Bao, Qixiang Ye, Furu Wei, *A Unified View of Masked Image Modeling*, 2022, https://arxiv.org/pdf/2210.10615.pdf\n",
    "* Hangbo Bao,  Li Dong,  Songhao Piao,  Furu Wei, *BEIT: BERT Pre-Training of Image Transformers*, 2021,  https://arxiv.org/pdf/2106.08254.pdf\n"
   ]
  }
 ],
 "metadata": {
  "kernelspec": {
   "display_name": "Python 3 (ipykernel)",
   "language": "python",
   "name": "python3"
  },
  "language_info": {
   "codemirror_mode": {
    "name": "ipython",
    "version": 3
   },
   "file_extension": ".py",
   "mimetype": "text/x-python",
   "name": "python",
   "nbconvert_exporter": "python",
   "pygments_lexer": "ipython3",
   "version": "3.10.8"
  },
  "vscode": {
   "interpreter": {
    "hash": "3878a93c42f0c29b2a6c84debb7b9e0dd3ba3a3dafd9575dce1d78e59e1015b3"
   }
  }
 },
 "nbformat": 4,
 "nbformat_minor": 2
}
