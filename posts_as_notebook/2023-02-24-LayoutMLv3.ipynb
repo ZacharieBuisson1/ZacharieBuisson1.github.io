{
 "cells": [
  {
   "attachments": {},
   "cell_type": "markdown",
   "metadata": {},
   "source": [
    "### Introduction - Use Cases"
   ]
  },
  {
   "attachments": {},
   "cell_type": "markdown",
   "metadata": {},
   "source": [
    "Document AI is one of the hottest areas in AI for businesses. Indeed, it goes without saying that automating low-value tasks is mandatory to reduce costs and improve operational performance. However, AI and such a model are not so easy to create, especially when it comes to a lot of different tasks."
   ]
  },
  {
   "attachments": {},
   "cell_type": "markdown",
   "metadata": {},
   "source": [
    "One of these topics is document AI. It aims to automatically find information in various documents, regardless of their type and form."
   ]
  },
  {
   "attachments": {},
   "cell_type": "markdown",
   "metadata": {},
   "source": [
    "> For example, someone might look at an invoice to find the name and date of the invoice. Invoices can be very different from one vendor to another, and it takes time to look through them. So AI can help the worker by finding the information and extracting it."
   ]
  },
  {
   "attachments": {},
   "cell_type": "markdown",
   "metadata": {},
   "source": [
    "Also, Microsoft has develop Self-supervised pre-training techniques to solve this use case. The model we are going to describe and implement in the following document is **LayoutLMv3**."
   ]
  },
  {
   "attachments": {},
   "cell_type": "markdown",
   "metadata": {},
   "source": [
    "### LayoutLMv3 : Theorical description"
   ]
  },
  {
   "attachments": {},
   "cell_type": "markdown",
   "metadata": {},
   "source": [
    "#### Conceptual approach"
   ]
  },
  {
   "attachments": {},
   "cell_type": "markdown",
   "metadata": {},
   "source": [
    "This model uses mainly three objectives in order to train the model : \n",
    "1. Masked Language Modeling (MLM) ;\n",
    "2. Masked Image Modeling (IMM) ;\n",
    "3. Word-Patch Alignement (WPA)."
   ]
  },
  {
   "attachments": {},
   "cell_type": "markdown",
   "metadata": {},
   "source": [
    "Thus, its main strength is that this model can learn on both text-centric documents (such as invoices) and more image-centric documents (such as contracts). "
   ]
  },
  {
   "attachments": {},
   "cell_type": "markdown",
   "metadata": {},
   "source": [
    "> The use of this strategy is very promising because it uses the two strengths of both types of models:\n",
    "> 1. it uses the position of each extracted box to learn how to find the information ;\n",
    "> 2. it also uses the content of each box to learn how to find relevant information.\n"
   ]
  },
  {
   "attachments": {},
   "cell_type": "markdown",
   "metadata": {},
   "source": [
    "Masked Language Modeling "
   ]
  },
  {
   "attachments": {},
   "cell_type": "markdown",
   "metadata": {},
   "source": [
    "One of the most popular models using masked language modeling is BERT<sup>[1](https://arxiv.org/pdf/1810.04805.pdf)</sup> (Bidirectional Encoder Representations from Transformers).\n",
    "\n",
    "This type of model has a fairly simple structure. Given an element to the model (such as a simple sentence), and masking some of the words, the algorithm tries to predict the masked elements using the context of the given element (other tokens' emneddings and positions' embeddings)."
   ]
  },
  {
   "attachments": {},
   "cell_type": "markdown",
   "metadata": {},
   "source": [
    "The following example may give an idea of how this transformer works."
   ]
  },
  {
   "attachments": {},
   "cell_type": "markdown",
   "metadata": {},
   "source": [
    "<p align=\"center\">\n",
    "    <img src=\"../_ressources/images/MLM_BERT.png\">\n",
    "<p>\n"
   ]
  },
  {
   "attachments": {},
   "cell_type": "markdown",
   "metadata": {},
   "source": [
    "*An example of MLM. Taken from : [Self-Supervised Contextual Data Augmentation for Natural Language Processing](https://www.researchgate.net/publication/337187647_Self-Supervised_Contextual_Data_Augmentation_for_Natural_Language_Processing)*"
   ]
  },
  {
   "attachments": {},
   "cell_type": "markdown",
   "metadata": {},
   "source": [
    "Masked Image Modeling"
   ]
  },
  {
   "attachments": {},
   "cell_type": "markdown",
   "metadata": {},
   "source": [
    "The idea of Masked Modeling Image is quite similar to the MLM. This time, masked elements are images and not sentences. "
   ]
  },
  {
   "cell_type": "code",
   "execution_count": null,
   "metadata": {},
   "outputs": [],
   "source": []
  },
  {
   "cell_type": "code",
   "execution_count": null,
   "metadata": {},
   "outputs": [],
   "source": []
  }
 ],
 "metadata": {
  "kernelspec": {
   "display_name": "base",
   "language": "python",
   "name": "python3"
  },
  "language_info": {
   "name": "python",
   "version": "3.7.4"
  },
  "orig_nbformat": 4,
  "vscode": {
   "interpreter": {
    "hash": "3878a93c42f0c29b2a6c84debb7b9e0dd3ba3a3dafd9575dce1d78e59e1015b3"
   }
  }
 },
 "nbformat": 4,
 "nbformat_minor": 2
}
